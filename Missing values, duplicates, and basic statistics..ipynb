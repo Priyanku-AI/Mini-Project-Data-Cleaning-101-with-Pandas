{
 "cells": [
  {
   "cell_type": "markdown",
   "id": "e6a052b5",
   "metadata": {},
   "source": [
    "Before staring please go through the \"About Dataset file\" and the dataset also for better uderstanding"
   ]
  },
  {
   "cell_type": "markdown",
   "id": "406aa9c6",
   "metadata": {},
   "source": [
    "# Step 1: Import Libraries and Load the Dataset"
   ]
  },
  {
   "cell_type": "code",
   "execution_count": 2,
   "id": "a57d4205",
   "metadata": {},
   "outputs": [
    {
     "name": "stdout",
     "output_type": "stream",
     "text": [
      "   ID    Name   Age Gender   Salary Department\n",
      "0   1   Rahul  28.0      M  50000.0         IT\n",
      "1   2   Priya   NaN      F  60000.0         HR\n",
      "2   3   Arjun  35.0      M      NaN      Sales\n",
      "3   4    Asha  22.0      F  55000.0         IT\n",
      "4   5  Suresh  40.0      M  70000.0         HR\n"
     ]
    }
   ],
   "source": [
    "import pandas as pd\n",
    "\n",
    "# Load the toy dataset\n",
    "df = pd.read_csv('mini_project_dataset.csv')\n",
    "\n",
    "# Display the first few rows to understand the data\n",
    "print(df.head())"
   ]
  },
  {
   "cell_type": "markdown",
   "id": "47bee097",
   "metadata": {},
   "source": [
    "# Step 2: Initial Exploration and Assessment\n",
    "### Understand the dataset by checking for missing values, duplicates, and basic statistics."
   ]
  },
  {
   "cell_type": "code",
   "execution_count": 3,
   "id": "c66cbd32",
   "metadata": {},
   "outputs": [
    {
     "name": "stdout",
     "output_type": "stream",
     "text": [
      "ID            0\n",
      "Name          1\n",
      "Age           1\n",
      "Gender        0\n",
      "Salary        2\n",
      "Department    1\n",
      "dtype: int64\n"
     ]
    }
   ],
   "source": [
    "# Check for missing values\n",
    "print(df.isnull().sum())"
   ]
  },
  {
   "cell_type": "code",
   "execution_count": 4,
   "id": "bcd8ce6b",
   "metadata": {},
   "outputs": [
    {
     "name": "stdout",
     "output_type": "stream",
     "text": [
      "Number of duplicates: 0\n"
     ]
    }
   ],
   "source": [
    "# Check for duplicates\n",
    "print(\"Number of duplicates:\", df.duplicated().sum())"
   ]
  },
  {
   "cell_type": "code",
   "execution_count": 5,
   "id": "b82087c9",
   "metadata": {},
   "outputs": [
    {
     "name": "stdout",
     "output_type": "stream",
     "text": [
      "             ID        Age        Salary\n",
      "count  10.00000   9.000000      8.000000\n",
      "mean    5.50000  30.333333  57250.000000\n",
      "std     3.02765   5.315073   6984.677107\n",
      "min     1.00000  22.000000  48000.000000\n",
      "25%     3.25000  28.000000  53750.000000\n",
      "50%     5.50000  29.000000  56500.000000\n",
      "75%     7.75000  33.000000  60500.000000\n",
      "max    10.00000  40.000000  70000.000000\n"
     ]
    }
   ],
   "source": [
    "# Basic statistics\n",
    "print(df.describe())"
   ]
  },
  {
   "cell_type": "markdown",
   "id": "c1193d20",
   "metadata": {},
   "source": [
    "# Step 3: Handling Missing Values\n",
    "\n",
    "### Decide how to handle missing values based on the nature of your data. Here we are filling with mean."
   ]
  },
  {
   "cell_type": "code",
   "execution_count": 6,
   "id": "c1fc0064",
   "metadata": {},
   "outputs": [],
   "source": [
    "# Fill missing age values with the mean\n",
    "mean_age = df['Age'].mean()\n",
    "df['Age'].fillna(mean_age, inplace=True)"
   ]
  },
  {
   "cell_type": "code",
   "execution_count": 7,
   "id": "e58c3104",
   "metadata": {},
   "outputs": [],
   "source": [
    "# Fill missing salary values with the mean\n",
    "mean_salary = df['Salary'].mean()\n",
    "df['Salary'].fillna(mean_salary, inplace=True)"
   ]
  },
  {
   "cell_type": "code",
   "execution_count": 8,
   "id": "7229d35a",
   "metadata": {},
   "outputs": [],
   "source": [
    "# Drop rows with missing name and department values\n",
    "df.dropna(subset=['Name', 'Department'], inplace=True)"
   ]
  },
  {
   "cell_type": "code",
   "execution_count": 9,
   "id": "92e811aa",
   "metadata": {},
   "outputs": [
    {
     "data": {
      "text/html": [
       "<div>\n",
       "<style scoped>\n",
       "    .dataframe tbody tr th:only-of-type {\n",
       "        vertical-align: middle;\n",
       "    }\n",
       "\n",
       "    .dataframe tbody tr th {\n",
       "        vertical-align: top;\n",
       "    }\n",
       "\n",
       "    .dataframe thead th {\n",
       "        text-align: right;\n",
       "    }\n",
       "</style>\n",
       "<table border=\"1\" class=\"dataframe\">\n",
       "  <thead>\n",
       "    <tr style=\"text-align: right;\">\n",
       "      <th></th>\n",
       "      <th>ID</th>\n",
       "      <th>Name</th>\n",
       "      <th>Age</th>\n",
       "      <th>Gender</th>\n",
       "      <th>Salary</th>\n",
       "      <th>Department</th>\n",
       "    </tr>\n",
       "  </thead>\n",
       "  <tbody>\n",
       "    <tr>\n",
       "      <th>0</th>\n",
       "      <td>1</td>\n",
       "      <td>Rahul</td>\n",
       "      <td>28.000000</td>\n",
       "      <td>M</td>\n",
       "      <td>50000.0</td>\n",
       "      <td>IT</td>\n",
       "    </tr>\n",
       "    <tr>\n",
       "      <th>1</th>\n",
       "      <td>2</td>\n",
       "      <td>Priya</td>\n",
       "      <td>30.333333</td>\n",
       "      <td>F</td>\n",
       "      <td>60000.0</td>\n",
       "      <td>HR</td>\n",
       "    </tr>\n",
       "    <tr>\n",
       "      <th>2</th>\n",
       "      <td>3</td>\n",
       "      <td>Arjun</td>\n",
       "      <td>35.000000</td>\n",
       "      <td>M</td>\n",
       "      <td>57250.0</td>\n",
       "      <td>Sales</td>\n",
       "    </tr>\n",
       "    <tr>\n",
       "      <th>3</th>\n",
       "      <td>4</td>\n",
       "      <td>Asha</td>\n",
       "      <td>22.000000</td>\n",
       "      <td>F</td>\n",
       "      <td>55000.0</td>\n",
       "      <td>IT</td>\n",
       "    </tr>\n",
       "    <tr>\n",
       "      <th>4</th>\n",
       "      <td>5</td>\n",
       "      <td>Suresh</td>\n",
       "      <td>40.000000</td>\n",
       "      <td>M</td>\n",
       "      <td>70000.0</td>\n",
       "      <td>HR</td>\n",
       "    </tr>\n",
       "    <tr>\n",
       "      <th>5</th>\n",
       "      <td>6</td>\n",
       "      <td>Pallabi</td>\n",
       "      <td>26.000000</td>\n",
       "      <td>F</td>\n",
       "      <td>48000.0</td>\n",
       "      <td>Sales</td>\n",
       "    </tr>\n",
       "    <tr>\n",
       "      <th>8</th>\n",
       "      <td>9</td>\n",
       "      <td>Anita</td>\n",
       "      <td>33.000000</td>\n",
       "      <td>F</td>\n",
       "      <td>57250.0</td>\n",
       "      <td>Sales</td>\n",
       "    </tr>\n",
       "    <tr>\n",
       "      <th>9</th>\n",
       "      <td>10</td>\n",
       "      <td>Vikram</td>\n",
       "      <td>28.000000</td>\n",
       "      <td>M</td>\n",
       "      <td>58000.0</td>\n",
       "      <td>HR</td>\n",
       "    </tr>\n",
       "  </tbody>\n",
       "</table>\n",
       "</div>"
      ],
      "text/plain": [
       "   ID     Name        Age Gender   Salary Department\n",
       "0   1    Rahul  28.000000      M  50000.0         IT\n",
       "1   2    Priya  30.333333      F  60000.0         HR\n",
       "2   3    Arjun  35.000000      M  57250.0      Sales\n",
       "3   4     Asha  22.000000      F  55000.0         IT\n",
       "4   5   Suresh  40.000000      M  70000.0         HR\n",
       "5   6  Pallabi  26.000000      F  48000.0      Sales\n",
       "8   9    Anita  33.000000      F  57250.0      Sales\n",
       "9  10   Vikram  28.000000      M  58000.0         HR"
      ]
     },
     "execution_count": 9,
     "metadata": {},
     "output_type": "execute_result"
    }
   ],
   "source": [
    "# Checking the changes\n",
    "df.head(10)"
   ]
  },
  {
   "cell_type": "markdown",
   "id": "48dea14a",
   "metadata": {},
   "source": [
    "The 7th and 8th ID row has been removed as it has missing values in the NAME and Department column\n",
    "and the other missing values of Age and Salary is filled with mean values."
   ]
  },
  {
   "cell_type": "code",
   "execution_count": 10,
   "id": "0dbf5e25",
   "metadata": {},
   "outputs": [
    {
     "name": "stdout",
     "output_type": "stream",
     "text": [
      "ID            0\n",
      "Name          0\n",
      "Age           0\n",
      "Gender        0\n",
      "Salary        0\n",
      "Department    0\n",
      "dtype: int64\n"
     ]
    }
   ],
   "source": [
    "print(df.isnull().sum())"
   ]
  },
  {
   "cell_type": "markdown",
   "id": "0330c165",
   "metadata": {},
   "source": [
    "# Step 4: Removing Duplicates\n",
    "### Remove duplicate rows if necessary."
   ]
  },
  {
   "cell_type": "code",
   "execution_count": 11,
   "id": "b4cc5ce9",
   "metadata": {},
   "outputs": [],
   "source": [
    "# Remove duplicate rows\n",
    "# df.drop_duplicates(inplace=True) # Since we don't have any duplicates, that's why not using this line of code"
   ]
  },
  {
   "cell_type": "markdown",
   "id": "6d49ddae",
   "metadata": {},
   "source": [
    "# Step 5: Save Cleaned Data\n",
    "### Save the cleaned dataset for future analysis."
   ]
  },
  {
   "cell_type": "code",
   "execution_count": 24,
   "id": "f273160c",
   "metadata": {},
   "outputs": [],
   "source": [
    "# Save the cleaned data to a new CSV file\n",
    "df.to_csv('cleaned_mini_project_dataset.csv', index=False) \n"
   ]
  },
  {
   "cell_type": "code",
   "execution_count": null,
   "id": "d44a99f5",
   "metadata": {},
   "outputs": [],
   "source": []
  }
 ],
 "metadata": {
  "kernelspec": {
   "display_name": "Python 3",
   "language": "python",
   "name": "python3"
  },
  "language_info": {
   "codemirror_mode": {
    "name": "ipython",
    "version": 3
   },
   "file_extension": ".py",
   "mimetype": "text/x-python",
   "name": "python",
   "nbconvert_exporter": "python",
   "pygments_lexer": "ipython3",
   "version": "3.8.8"
  }
 },
 "nbformat": 4,
 "nbformat_minor": 5
}
